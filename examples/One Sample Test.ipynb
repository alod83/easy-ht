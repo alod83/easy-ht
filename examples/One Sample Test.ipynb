{
 "cells": [
  {
   "cell_type": "markdown",
   "metadata": {},
   "source": [
    "# One sample Test\n",
    "\n",
    "## Load Libraries"
   ]
  },
  {
   "cell_type": "code",
   "execution_count": 47,
   "metadata": {},
   "outputs": [],
   "source": [
    "from easy_ht import HypothesisTest\n",
    "import random\n",
    "import numpy as np"
   ]
  },
  {
   "cell_type": "markdown",
   "metadata": {},
   "source": [
    "## 1 Generate Normal Data\n",
    "\n",
    "Generate data with a normal distribution"
   ]
  },
  {
   "cell_type": "code",
   "execution_count": 48,
   "metadata": {},
   "outputs": [],
   "source": [
    "mu, sigma = 0, 0.1\n",
    "X = np.random.normal(mu, sigma, 100)"
   ]
  },
  {
   "cell_type": "markdown",
   "metadata": {},
   "source": [
    "## Create a Hypothesis Test"
   ]
  },
  {
   "cell_type": "code",
   "execution_count": 49,
   "metadata": {},
   "outputs": [],
   "source": [
    "test = HypothesisTest(x = X)"
   ]
  },
  {
   "cell_type": "markdown",
   "metadata": {},
   "source": [
    "## Compare the mean with a theoretical value\n",
    "\n",
    "Firstly, compare samples with actual mean"
   ]
  },
  {
   "cell_type": "code",
   "execution_count": 50,
   "metadata": {},
   "outputs": [
    {
     "name": "stdout",
     "output_type": "stream",
     "text": [
      "Test is True: There is no difference\n"
     ]
    }
   ],
   "source": [
    "value = np.mean(X)\n",
    "result = test.compare_means(value = value)\n",
    "if result:\n",
    "    print(\"Test is True: There is no difference\")\n",
    "else:\n",
    "    print(\"Test is False: There is difference\")"
   ]
  },
  {
   "cell_type": "markdown",
   "metadata": {},
   "source": [
    "Secondly, compare samples with another value"
   ]
  },
  {
   "cell_type": "code",
   "execution_count": 51,
   "metadata": {},
   "outputs": [
    {
     "name": "stdout",
     "output_type": "stream",
     "text": [
      "Test is False: There is difference\n"
     ]
    }
   ],
   "source": [
    "value = 50\n",
    "result = test.compare_means(value = value)\n",
    "if result:\n",
    "    print(\"Test is True: There is no difference\")\n",
    "else:\n",
    "    print(\"Test is False: There is difference\")"
   ]
  },
  {
   "cell_type": "markdown",
   "metadata": {},
   "source": [
    "## Check Randomness\n",
    "Check if data has been generated in a random way"
   ]
  },
  {
   "cell_type": "code",
   "execution_count": 52,
   "metadata": {},
   "outputs": [
    {
     "name": "stdout",
     "output_type": "stream",
     "text": [
      "Test is True: Data is random\n"
     ]
    }
   ],
   "source": [
    "result = test.check_randomness()\n",
    "if result:\n",
    "    print(\"Test is True: Data is random\")\n",
    "else:\n",
    "    print(\"Test is False: Data is not random\")"
   ]
  },
  {
   "cell_type": "markdown",
   "metadata": {},
   "source": [
    "## Compare Distributions\n",
    "Compare data with a normal distribution with mean = 0 and sigma = 1"
   ]
  },
  {
   "cell_type": "code",
   "execution_count": 53,
   "metadata": {},
   "outputs": [
    {
     "name": "stdout",
     "output_type": "stream",
     "text": [
      "Test is False: Data does not follow a normal distribution (0,1)\n"
     ]
    }
   ],
   "source": [
    "result = test.compare_distributions(cdf = 'norm')\n",
    "if result:\n",
    "    print(\"Test is True: Data follows a normal distribution (0,1)\")\n",
    "else:\n",
    "    print(\"Test is False: Data does not follow a normal distribution (0,1)\")"
   ]
  },
  {
   "cell_type": "markdown",
   "metadata": {},
   "source": [
    "Compare data with a normal distribution with mean = mu and sigma = sigma"
   ]
  },
  {
   "cell_type": "code",
   "execution_count": 54,
   "metadata": {},
   "outputs": [
    {
     "name": "stdout",
     "output_type": "stream",
     "text": [
      "Test is True:  Data follows a normal distribution 0 0.1\n"
     ]
    }
   ],
   "source": [
    "result = test.compare_distributions(cdf = 'norm', args=(mu,sigma))\n",
    "if result:\n",
    "    print(\"Test is True:  Data follows a normal distribution\",mu, sigma)\n",
    "else:\n",
    "    print(\"Test is False: Data does not follow a normal distribution\", mu, sigma)"
   ]
  },
  {
   "cell_type": "markdown",
   "metadata": {},
   "source": [
    "# 2 Generic Data\n",
    "Generate 100 random numbers (probably not normal)"
   ]
  },
  {
   "cell_type": "code",
   "execution_count": 55,
   "metadata": {},
   "outputs": [],
   "source": [
    "X = random.sample(range(0, 300), k = 100)"
   ]
  },
  {
   "cell_type": "markdown",
   "metadata": {},
   "source": [
    "## Create Hypothesis Test"
   ]
  },
  {
   "cell_type": "code",
   "execution_count": 56,
   "metadata": {},
   "outputs": [],
   "source": [
    "test = HypothesisTest(x = X)"
   ]
  },
  {
   "cell_type": "markdown",
   "metadata": {},
   "source": [
    "## Compare the mean with a theoretical value\n",
    "Firstly, compare samples with actual mean"
   ]
  },
  {
   "cell_type": "code",
   "execution_count": 57,
   "metadata": {},
   "outputs": [
    {
     "name": "stdout",
     "output_type": "stream",
     "text": [
      "Test is True: There is no difference\n"
     ]
    }
   ],
   "source": [
    "value = np.mean(X)\n",
    "result = test.compare_means(value = value)\n",
    "if result:\n",
    "    print(\"Test is True: There is no difference\")\n",
    "else:\n",
    "    print(\"Test is False: There is difference\")"
   ]
  },
  {
   "cell_type": "code",
   "execution_count": null,
   "metadata": {},
   "outputs": [],
   "source": []
  },
  {
   "cell_type": "code",
   "execution_count": null,
   "metadata": {},
   "outputs": [],
   "source": []
  }
 ],
 "metadata": {
  "kernelspec": {
   "display_name": "Python 3",
   "language": "python",
   "name": "python3"
  },
  "language_info": {
   "codemirror_mode": {
    "name": "ipython",
    "version": 3
   },
   "file_extension": ".py",
   "mimetype": "text/x-python",
   "name": "python",
   "nbconvert_exporter": "python",
   "pygments_lexer": "ipython3",
   "version": "3.8.1"
  }
 },
 "nbformat": 4,
 "nbformat_minor": 4
}
